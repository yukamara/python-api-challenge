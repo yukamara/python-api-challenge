{
 "cells": [
  {
   "cell_type": "code",
   "execution_count": null,
   "metadata": {},
   "outputs": [],
   "source": [
    "        weather_data.loc[index, 'Latitude'] = 'NaN'\n",
    "        weather_data.loc[index, 'Longitude'] = 'NaN'\n",
    "        weather_data.loc[index, 'Temperature (F)'] = 'NaN'\n",
    "        weather_data.loc[index, 'Humidity (%)'] = 'NaN'\n",
    "        weather_data.loc[index, 'Cloudiness (%)'] = 'NaN'\n",
    "        weather_data.loc[index, 'Wind Speed (mph)'] = 'NaN'  "
   ]
  },
  {
   "cell_type": "code",
   "execution_count": null,
   "metadata": {},
   "outputs": [],
   "source": [
    "\n",
    "#weather_data[['Latitude','Longitude','Temperature (F)','Humidity (%)','Cloudiness (%)','Wind Speed (mph)']] = weather_data[['Latitude','Longitude','Temperature (F)','Humidity (%)','Cloudiness (%)','Wind Speed (mph)']].apply(pd.to_numeric(errors='coerce'))\n",
    "\n",
    "#weather_data = weather_data.apply(pd.to_numeric(errors='ignore'))\n",
    "\n",
    "#weather_data['Latitude'] = pd.to_numeric(weather_data['Latitude'])\n",
    "#weather_data['Longitude'] = pd.to_numeric(weather_data['Longitude'])\n",
    "#weather_df = pd.to_numeric(weather_data[['Latitude','Longitude','Temperature (F)','Humidity (%)','Cloudiness (%)','Wind Speed (mph)']], errors='coerce')\n"
   ]
  }
 ],
 "metadata": {
  "kernelspec": {
   "display_name": "Python [conda env:PythonData] *",
   "language": "python",
   "name": "conda-env-PythonData-py"
  },
  "language_info": {
   "codemirror_mode": {
    "name": "ipython",
    "version": 3
   },
   "file_extension": ".py",
   "mimetype": "text/x-python",
   "name": "python",
   "nbconvert_exporter": "python",
   "pygments_lexer": "ipython3",
   "version": "3.6.10"
  }
 },
 "nbformat": 4,
 "nbformat_minor": 4
}
